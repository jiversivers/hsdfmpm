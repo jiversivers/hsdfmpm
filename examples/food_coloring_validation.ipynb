{
 "cells": [
  {
   "cell_type": "code",
   "id": "initial_id",
   "metadata": {
    "collapsed": true,
    "ExecuteTime": {
     "end_time": "2025-04-16T19:45:31.533452Z",
     "start_time": "2025-04-16T19:45:21.943564Z"
    }
   },
   "source": [
    "import numpy as np\n",
    "from matplotlib import pyplot as plt\n",
    "\n",
    "from hsdfmpm.hsdfm import HyperspectralImage, MergedHyperspectralImage\n",
    "from hsdfmpm.hsdfm.utils import find_cycles\n",
    "\n",
    "# Get standard paths\n",
    "standard_root = r'E:\\new df\\03312025\\ref_stdrd_080'\n",
    "standard_paths = find_cycles(standard_root)\n",
    "\n",
    "# Load standard\n",
    "standard_cube = MergedHyperspectralImage(image_path=standard_paths)\n",
    "\n",
    "# Load bg\n",
    "background_cube = HyperspectralImage(image_path=r'E:\\new df\\03312025\\phantoms\\window_phantoms\\dark\\cycle1')"
   ],
   "outputs": [],
   "execution_count": 14
  },
  {
   "metadata": {
    "ExecuteTime": {
     "end_time": "2025-04-16T19:45:37.790151Z",
     "start_time": "2025-04-16T19:45:37.768088Z"
    }
   },
   "cell_type": "code",
   "source": "standard_cube.hyperstack",
   "id": "f7656061a18d65a3",
   "outputs": [
    {
     "data": {
      "text/plain": [
       "[array([[[ 823.,  951.,  987., ..., 2476., 2447., 2231.],\n",
       "         [ 802.,  945., 1006., ..., 2667., 2512., 2496.],\n",
       "         [ 918.,  957.,  952., ..., 2590., 2642., 2597.],\n",
       "         ...,\n",
       "         [ 400.,  461.,  434., ..., 2682., 2746., 2525.],\n",
       "         [ 350.,  445.,  437., ..., 2718., 2562., 2408.],\n",
       "         [ 381.,  430.,  399., ..., 2415., 2347., 2364.]],\n",
       " \n",
       "        [[ 964., 1028., 1073., ..., 2993., 2830., 2595.],\n",
       "         [1006., 1146., 1129., ..., 3246., 3300., 3117.],\n",
       "         [1243., 1170., 1183., ..., 3241., 3191., 3121.],\n",
       "         ...,\n",
       "         [ 494.,  543.,  571., ..., 3379., 3411., 3325.],\n",
       "         [ 451.,  465.,  501., ..., 3344., 3302., 3172.],\n",
       "         [ 459.,  497.,  489., ..., 3159., 2895., 3206.]],\n",
       " \n",
       "        [[1234., 1458., 1514., ..., 4077., 3816., 3587.],\n",
       "         [1242., 1599., 1661., ..., 4184., 4322., 4047.],\n",
       "         [1602., 1552., 1608., ..., 4360., 4322., 4324.],\n",
       "         ...,\n",
       "         [ 708.,  750.,  686., ..., 4597., 4522., 4595.],\n",
       "         [ 552.,  646.,  736., ..., 4485., 4373., 4043.],\n",
       "         [ 536.,  564.,  619., ..., 4005., 4113., 3799.]],\n",
       " \n",
       "        ...,\n",
       " \n",
       "        [[2079., 2482., 2791., ..., 7502., 7317., 6495.],\n",
       "         [2491., 2999., 3003., ..., 8584., 8516., 7616.],\n",
       "         [2620., 2899., 3147., ..., 9120., 8809., 8397.],\n",
       "         ...,\n",
       "         [1144., 1245., 1253., ..., 9207., 8776., 7857.],\n",
       "         [1143., 1239., 1272., ..., 8542., 8405., 7463.],\n",
       "         [ 966., 1045., 1090., ..., 7399., 7147., 6384.]],\n",
       " \n",
       "        [[2316., 2717., 2827., ..., 8078., 7536., 6688.],\n",
       "         [2812., 3035., 3435., ..., 9522., 9209., 8353.],\n",
       "         [2883., 3190., 3361., ..., 9914., 9356., 9095.],\n",
       "         ...,\n",
       "         [1292., 1404., 1460., ..., 9316., 9219., 8373.],\n",
       "         [1213., 1372., 1264., ..., 9133., 8813., 7744.],\n",
       "         [1058., 1138., 1257., ..., 7657., 7628., 6941.]],\n",
       " \n",
       "        [[2070., 2411., 2468., ..., 7213., 6660., 6340.],\n",
       "         [2441., 2854., 2931., ..., 8476., 8408., 7539.],\n",
       "         [2564., 2818., 3073., ..., 8724., 8662., 7932.],\n",
       "         ...,\n",
       "         [1090., 1328., 1363., ..., 8727., 8259., 7579.],\n",
       "         [1043., 1231., 1305., ..., 8395., 8035., 7065.],\n",
       "         [ 852., 1114., 1101., ..., 6956., 6962., 6146.]]],\n",
       "       shape=(23, 2048, 2048)),\n",
       " array([[[ 542.,  596.,  578., ..., 2024., 1886., 1782.],\n",
       "         [ 619.,  623.,  670., ..., 2112., 2144., 2038.],\n",
       "         [ 665.,  653.,  652., ..., 2020., 2075., 2123.],\n",
       "         ...,\n",
       "         [ 311.,  280.,  305., ..., 1867., 1854., 1736.],\n",
       "         [ 270.,  322.,  332., ..., 1840., 1804., 1689.],\n",
       "         [ 282.,  296.,  279., ..., 1700., 1506., 1586.]],\n",
       " \n",
       "        [[ 596.,  681.,  759., ..., 2289., 2303., 2086.],\n",
       "         [ 709.,  800.,  765., ..., 2470., 2495., 2389.],\n",
       "         [ 728.,  772.,  733., ..., 2433., 2643., 2591.],\n",
       "         ...,\n",
       "         [ 349.,  361.,  348., ..., 2255., 2144., 2137.],\n",
       "         [ 320.,  393.,  383., ..., 2296., 2020., 2137.],\n",
       "         [ 297.,  344.,  324., ..., 1995., 2069., 1919.]],\n",
       " \n",
       "        [[ 882., 1012., 1010., ..., 3173., 2975., 2619.],\n",
       "         [ 893., 1062., 1038., ..., 3354., 3410., 3155.],\n",
       "         [1056., 1024., 1026., ..., 3350., 3410., 3470.],\n",
       "         ...,\n",
       "         [ 437.,  500.,  451., ..., 3049., 3079., 2889.],\n",
       "         [ 390.,  510.,  502., ..., 3013., 2896., 2673.],\n",
       "         [ 369.,  417.,  412., ..., 2682., 2672., 2540.]],\n",
       " \n",
       "        ...,\n",
       " \n",
       "        [[1776., 2185., 2159., ..., 7465., 7025., 6495.],\n",
       "         [2081., 2333., 2430., ..., 8799., 8443., 7693.],\n",
       "         [2429., 2440., 2714., ..., 9156., 8736., 7932.],\n",
       "         ...,\n",
       "         [ 916., 1037.,  951., ..., 7436., 7408., 6306.],\n",
       "         [ 867.,  953., 1046., ..., 7067., 7074., 6152.],\n",
       "         [ 681.,  892.,  814., ..., 5850., 6075., 5231.]],\n",
       " \n",
       "        [[1817., 2121., 2301., ..., 7898., 7644., 6960.],\n",
       "         [2214., 2599., 2714., ..., 9269., 9027., 8160.],\n",
       "         [2517., 2615., 2822., ..., 9409., 9684., 8669.],\n",
       "         ...,\n",
       "         [ 978., 1034., 1101., ..., 7805., 7592., 6822.],\n",
       "         [ 881.,  991., 1012., ..., 7732., 7297., 6350.],\n",
       "         [ 841.,  948.,  938., ..., 6514., 6222., 5708.]],\n",
       " \n",
       "        [[1799., 1849., 2118., ..., 7284., 6478., 6263.],\n",
       "         [1941., 2277., 2349., ..., 8438., 8297., 7654.],\n",
       "         [2180., 2260., 2380., ..., 8796., 8736., 8164.],\n",
       "         ...,\n",
       "         [ 934.,  984., 1007., ..., 7214., 6888., 6146.],\n",
       "         [ 877.,  935., 1014., ..., 6699., 6519., 5914.],\n",
       "         [ 730.,  854.,  806., ..., 5739., 5594., 4953.]]],\n",
       "       shape=(23, 2048, 2048)),\n",
       " array([[[  914.,   928.,   934., ...,  2847.,  2647.,  2695.],\n",
       "         [  961.,  1012.,  1042., ...,  3029.,  3045.,  3001.],\n",
       "         [ 1024.,  1051.,  1045., ...,  2916.,  3045.,  3044.],\n",
       "         ...,\n",
       "         [  403.,   556.,   507., ...,  3085.,  2895.,  2849.],\n",
       "         [  515.,   527.,   533., ...,  3012.,  2784.,  2581.],\n",
       "         [  412.,   381.,   431., ...,  2525.,  2545.,  2496.]],\n",
       " \n",
       "        [[ 1051.,  1254.,  1217., ...,  3572.,  3342.,  3276.],\n",
       "         [ 1134.,  1274.,  1326., ...,  3752.,  3666.,  3582.],\n",
       "         [ 1285.,  1295.,  1339., ...,  3711.,  3848.,  3935.],\n",
       "         ...,\n",
       "         [  603.,   627.,   628., ...,  3784.,  3670.,  3562.],\n",
       "         [  573.,   594.,   561., ...,  3822.,  3558.,  3250.],\n",
       "         [  478.,   558.,   592., ...,  3379.,  3411.,  3166.]],\n",
       " \n",
       "        [[ 1529.,  1485.,  1539., ...,  4510.,  4546.,  4517.],\n",
       "         [ 1581.,  1692.,  1777., ...,  4942.,  4942.,  4513.],\n",
       "         [ 1683.,  1717.,  1695., ...,  5009.,  5052.,  5100.],\n",
       "         ...,\n",
       "         [  695.,   833.,   688., ...,  5039.,  4891.,  4715.],\n",
       "         [  775.,   833.,   783., ...,  5038.,  4668.,  4480.],\n",
       "         [  634.,   645.,   718., ...,  4339.,  4188.,  3959.]],\n",
       " \n",
       "        ...,\n",
       " \n",
       "        [[ 2850.,  3334.,  3367., ..., 10929., 10017.,  9095.],\n",
       "         [ 3385.,  3724.,  3901., ..., 12658., 12127., 10913.],\n",
       "         [ 3495.,  3828.,  4295., ..., 13194., 12892., 11965.],\n",
       "         ...,\n",
       "         [ 1574.,  1748.,  1707., ..., 11457., 11033., 10244.],\n",
       "         [ 1473.,  1651.,  1654., ..., 11051., 10589.,  9653.],\n",
       "         [ 1351.,  1377.,  1538., ...,  9242.,  9293.,  8175.]],\n",
       " \n",
       "        [[ 3079.,  3369.,  3617., ..., 11288., 10745.,  9599.],\n",
       "         [ 3423.,  4194.,  4224., ..., 13379., 12638., 11883.],\n",
       "         [ 3762.,  4079.,  4402., ..., 13736., 13879., 12199.],\n",
       "         ...,\n",
       "         [ 1707.,  1886.,  1871., ..., 11972., 11661., 10601.],\n",
       "         [ 1598.,  1751.,  1770., ..., 11678., 11328., 10010.],\n",
       "         [ 1341.,  1541.,  1549., ..., 10128.,  9626.,  8851.]],\n",
       " \n",
       "        [[ 2773.,  3079.,  3078., ..., 10315.,  9616.,  8746.],\n",
       "         [ 3156.,  3832.,  3758., ..., 12297., 11544., 10331.],\n",
       "         [ 3495.,  3636.,  3865., ..., 12185., 12163., 11189.],\n",
       "         ...,\n",
       "         [ 1565.,  1764.,  1651., ..., 10866., 10661.,  9249.],\n",
       "         [ 1476.,  1585.,  1703., ..., 10312., 10107.,  8776.],\n",
       "         [ 1286.,  1437.,  1436., ...,  8652.,  8664.,  7618.]]],\n",
       "       shape=(23, 2048, 2048))]"
      ]
     },
     "execution_count": 15,
     "metadata": {},
     "output_type": "execute_result"
    }
   ],
   "execution_count": 15
  },
  {
   "metadata": {
    "ExecuteTime": {
     "end_time": "2025-04-16T18:18:02.006911Z",
     "start_time": "2025-04-16T18:17:59.645667Z"
    }
   },
   "cell_type": "code",
   "source": [
    "fig, ax = plt.subplots(1, 2, figsize=(5, 2.5))\n",
    "ax[0] = plt.imshow(np.mean(standard_cube.hyperstack, axis=0))\n",
    "ax[1] = plt.imshow(np.mean(background_cube.hyperstack, axis=0))\n",
    "plt.show()"
   ],
   "id": "cd2d679b546b6a73",
   "outputs": [
    {
     "ename": "TypeError",
     "evalue": "Invalid shape (23, 2048, 2048) for image data",
     "output_type": "error",
     "traceback": [
      "\u001B[1;31m---------------------------------------------------------------------------\u001B[0m",
      "\u001B[1;31mTypeError\u001B[0m                                 Traceback (most recent call last)",
      "Cell \u001B[1;32mIn[2], line 2\u001B[0m\n\u001B[0;32m      1\u001B[0m fig, ax \u001B[38;5;241m=\u001B[39m plt\u001B[38;5;241m.\u001B[39msubplots(\u001B[38;5;241m1\u001B[39m, \u001B[38;5;241m2\u001B[39m, figsize\u001B[38;5;241m=\u001B[39m(\u001B[38;5;241m5\u001B[39m, \u001B[38;5;241m2.5\u001B[39m))\n\u001B[1;32m----> 2\u001B[0m ax[\u001B[38;5;241m0\u001B[39m] \u001B[38;5;241m=\u001B[39m plt\u001B[38;5;241m.\u001B[39mimshow(np\u001B[38;5;241m.\u001B[39mmean(standard_cube\u001B[38;5;241m.\u001B[39mhyperstack, axis\u001B[38;5;241m=\u001B[39m\u001B[38;5;241m0\u001B[39m))\n\u001B[0;32m      3\u001B[0m ax[\u001B[38;5;241m1\u001B[39m] \u001B[38;5;241m=\u001B[39m plt\u001B[38;5;241m.\u001B[39mimshow(np\u001B[38;5;241m.\u001B[39mmean(background_cube\u001B[38;5;241m.\u001B[39mhyperstack, axis\u001B[38;5;241m=\u001B[39m\u001B[38;5;241m0\u001B[39m))\n\u001B[0;32m      4\u001B[0m plt\u001B[38;5;241m.\u001B[39mshow()\n",
      "File \u001B[1;32m~\\AppData\\Local\\miniconda3\\envs\\image_fitting\\Lib\\site-packages\\matplotlib\\pyplot.py:3590\u001B[0m, in \u001B[0;36mimshow\u001B[1;34m(X, cmap, norm, aspect, interpolation, alpha, vmin, vmax, colorizer, origin, extent, interpolation_stage, filternorm, filterrad, resample, url, data, **kwargs)\u001B[0m\n\u001B[0;32m   3568\u001B[0m \u001B[38;5;129m@_copy_docstring_and_deprecators\u001B[39m(Axes\u001B[38;5;241m.\u001B[39mimshow)\n\u001B[0;32m   3569\u001B[0m \u001B[38;5;28;01mdef\u001B[39;00m \u001B[38;5;21mimshow\u001B[39m(\n\u001B[0;32m   3570\u001B[0m     X: ArrayLike \u001B[38;5;241m|\u001B[39m PIL\u001B[38;5;241m.\u001B[39mImage\u001B[38;5;241m.\u001B[39mImage,\n\u001B[1;32m   (...)\u001B[0m\n\u001B[0;32m   3588\u001B[0m     \u001B[38;5;241m*\u001B[39m\u001B[38;5;241m*\u001B[39mkwargs,\n\u001B[0;32m   3589\u001B[0m ) \u001B[38;5;241m-\u001B[39m\u001B[38;5;241m>\u001B[39m AxesImage:\n\u001B[1;32m-> 3590\u001B[0m     __ret \u001B[38;5;241m=\u001B[39m gca()\u001B[38;5;241m.\u001B[39mimshow(\n\u001B[0;32m   3591\u001B[0m         X,\n\u001B[0;32m   3592\u001B[0m         cmap\u001B[38;5;241m=\u001B[39mcmap,\n\u001B[0;32m   3593\u001B[0m         norm\u001B[38;5;241m=\u001B[39mnorm,\n\u001B[0;32m   3594\u001B[0m         aspect\u001B[38;5;241m=\u001B[39maspect,\n\u001B[0;32m   3595\u001B[0m         interpolation\u001B[38;5;241m=\u001B[39minterpolation,\n\u001B[0;32m   3596\u001B[0m         alpha\u001B[38;5;241m=\u001B[39malpha,\n\u001B[0;32m   3597\u001B[0m         vmin\u001B[38;5;241m=\u001B[39mvmin,\n\u001B[0;32m   3598\u001B[0m         vmax\u001B[38;5;241m=\u001B[39mvmax,\n\u001B[0;32m   3599\u001B[0m         colorizer\u001B[38;5;241m=\u001B[39mcolorizer,\n\u001B[0;32m   3600\u001B[0m         origin\u001B[38;5;241m=\u001B[39morigin,\n\u001B[0;32m   3601\u001B[0m         extent\u001B[38;5;241m=\u001B[39mextent,\n\u001B[0;32m   3602\u001B[0m         interpolation_stage\u001B[38;5;241m=\u001B[39minterpolation_stage,\n\u001B[0;32m   3603\u001B[0m         filternorm\u001B[38;5;241m=\u001B[39mfilternorm,\n\u001B[0;32m   3604\u001B[0m         filterrad\u001B[38;5;241m=\u001B[39mfilterrad,\n\u001B[0;32m   3605\u001B[0m         resample\u001B[38;5;241m=\u001B[39mresample,\n\u001B[0;32m   3606\u001B[0m         url\u001B[38;5;241m=\u001B[39murl,\n\u001B[0;32m   3607\u001B[0m         \u001B[38;5;241m*\u001B[39m\u001B[38;5;241m*\u001B[39m({\u001B[38;5;124m\"\u001B[39m\u001B[38;5;124mdata\u001B[39m\u001B[38;5;124m\"\u001B[39m: data} \u001B[38;5;28;01mif\u001B[39;00m data \u001B[38;5;129;01mis\u001B[39;00m \u001B[38;5;129;01mnot\u001B[39;00m \u001B[38;5;28;01mNone\u001B[39;00m \u001B[38;5;28;01melse\u001B[39;00m {}),\n\u001B[0;32m   3608\u001B[0m         \u001B[38;5;241m*\u001B[39m\u001B[38;5;241m*\u001B[39mkwargs,\n\u001B[0;32m   3609\u001B[0m     )\n\u001B[0;32m   3610\u001B[0m     sci(__ret)\n\u001B[0;32m   3611\u001B[0m     \u001B[38;5;28;01mreturn\u001B[39;00m __ret\n",
      "File \u001B[1;32m~\\AppData\\Local\\miniconda3\\envs\\image_fitting\\Lib\\site-packages\\matplotlib\\__init__.py:1521\u001B[0m, in \u001B[0;36m_preprocess_data.<locals>.inner\u001B[1;34m(ax, data, *args, **kwargs)\u001B[0m\n\u001B[0;32m   1518\u001B[0m \u001B[38;5;129m@functools\u001B[39m\u001B[38;5;241m.\u001B[39mwraps(func)\n\u001B[0;32m   1519\u001B[0m \u001B[38;5;28;01mdef\u001B[39;00m \u001B[38;5;21minner\u001B[39m(ax, \u001B[38;5;241m*\u001B[39margs, data\u001B[38;5;241m=\u001B[39m\u001B[38;5;28;01mNone\u001B[39;00m, \u001B[38;5;241m*\u001B[39m\u001B[38;5;241m*\u001B[39mkwargs):\n\u001B[0;32m   1520\u001B[0m     \u001B[38;5;28;01mif\u001B[39;00m data \u001B[38;5;129;01mis\u001B[39;00m \u001B[38;5;28;01mNone\u001B[39;00m:\n\u001B[1;32m-> 1521\u001B[0m         \u001B[38;5;28;01mreturn\u001B[39;00m func(\n\u001B[0;32m   1522\u001B[0m             ax,\n\u001B[0;32m   1523\u001B[0m             \u001B[38;5;241m*\u001B[39m\u001B[38;5;28mmap\u001B[39m(cbook\u001B[38;5;241m.\u001B[39msanitize_sequence, args),\n\u001B[0;32m   1524\u001B[0m             \u001B[38;5;241m*\u001B[39m\u001B[38;5;241m*\u001B[39m{k: cbook\u001B[38;5;241m.\u001B[39msanitize_sequence(v) \u001B[38;5;28;01mfor\u001B[39;00m k, v \u001B[38;5;129;01min\u001B[39;00m kwargs\u001B[38;5;241m.\u001B[39mitems()})\n\u001B[0;32m   1526\u001B[0m     bound \u001B[38;5;241m=\u001B[39m new_sig\u001B[38;5;241m.\u001B[39mbind(ax, \u001B[38;5;241m*\u001B[39margs, \u001B[38;5;241m*\u001B[39m\u001B[38;5;241m*\u001B[39mkwargs)\n\u001B[0;32m   1527\u001B[0m     auto_label \u001B[38;5;241m=\u001B[39m (bound\u001B[38;5;241m.\u001B[39marguments\u001B[38;5;241m.\u001B[39mget(label_namer)\n\u001B[0;32m   1528\u001B[0m                   \u001B[38;5;129;01mor\u001B[39;00m bound\u001B[38;5;241m.\u001B[39mkwargs\u001B[38;5;241m.\u001B[39mget(label_namer))\n",
      "File \u001B[1;32m~\\AppData\\Local\\miniconda3\\envs\\image_fitting\\Lib\\site-packages\\matplotlib\\axes\\_axes.py:5976\u001B[0m, in \u001B[0;36mAxes.imshow\u001B[1;34m(self, X, cmap, norm, aspect, interpolation, alpha, vmin, vmax, colorizer, origin, extent, interpolation_stage, filternorm, filterrad, resample, url, **kwargs)\u001B[0m\n\u001B[0;32m   5973\u001B[0m \u001B[38;5;28;01mif\u001B[39;00m aspect \u001B[38;5;129;01mis\u001B[39;00m \u001B[38;5;129;01mnot\u001B[39;00m \u001B[38;5;28;01mNone\u001B[39;00m:\n\u001B[0;32m   5974\u001B[0m     \u001B[38;5;28mself\u001B[39m\u001B[38;5;241m.\u001B[39mset_aspect(aspect)\n\u001B[1;32m-> 5976\u001B[0m im\u001B[38;5;241m.\u001B[39mset_data(X)\n\u001B[0;32m   5977\u001B[0m im\u001B[38;5;241m.\u001B[39mset_alpha(alpha)\n\u001B[0;32m   5978\u001B[0m \u001B[38;5;28;01mif\u001B[39;00m im\u001B[38;5;241m.\u001B[39mget_clip_path() \u001B[38;5;129;01mis\u001B[39;00m \u001B[38;5;28;01mNone\u001B[39;00m:\n\u001B[0;32m   5979\u001B[0m     \u001B[38;5;66;03m# image does not already have clipping set, clip to Axes patch\u001B[39;00m\n",
      "File \u001B[1;32m~\\AppData\\Local\\miniconda3\\envs\\image_fitting\\Lib\\site-packages\\matplotlib\\image.py:685\u001B[0m, in \u001B[0;36m_ImageBase.set_data\u001B[1;34m(self, A)\u001B[0m\n\u001B[0;32m    683\u001B[0m \u001B[38;5;28;01mif\u001B[39;00m \u001B[38;5;28misinstance\u001B[39m(A, PIL\u001B[38;5;241m.\u001B[39mImage\u001B[38;5;241m.\u001B[39mImage):\n\u001B[0;32m    684\u001B[0m     A \u001B[38;5;241m=\u001B[39m pil_to_array(A)  \u001B[38;5;66;03m# Needed e.g. to apply png palette.\u001B[39;00m\n\u001B[1;32m--> 685\u001B[0m \u001B[38;5;28mself\u001B[39m\u001B[38;5;241m.\u001B[39m_A \u001B[38;5;241m=\u001B[39m \u001B[38;5;28mself\u001B[39m\u001B[38;5;241m.\u001B[39m_normalize_image_array(A)\n\u001B[0;32m    686\u001B[0m \u001B[38;5;28mself\u001B[39m\u001B[38;5;241m.\u001B[39m_imcache \u001B[38;5;241m=\u001B[39m \u001B[38;5;28;01mNone\u001B[39;00m\n\u001B[0;32m    687\u001B[0m \u001B[38;5;28mself\u001B[39m\u001B[38;5;241m.\u001B[39mstale \u001B[38;5;241m=\u001B[39m \u001B[38;5;28;01mTrue\u001B[39;00m\n",
      "File \u001B[1;32m~\\AppData\\Local\\miniconda3\\envs\\image_fitting\\Lib\\site-packages\\matplotlib\\image.py:653\u001B[0m, in \u001B[0;36m_ImageBase._normalize_image_array\u001B[1;34m(A)\u001B[0m\n\u001B[0;32m    651\u001B[0m     A \u001B[38;5;241m=\u001B[39m A\u001B[38;5;241m.\u001B[39msqueeze(\u001B[38;5;241m-\u001B[39m\u001B[38;5;241m1\u001B[39m)  \u001B[38;5;66;03m# If just (M, N, 1), assume scalar and apply colormap.\u001B[39;00m\n\u001B[0;32m    652\u001B[0m \u001B[38;5;28;01mif\u001B[39;00m \u001B[38;5;129;01mnot\u001B[39;00m (A\u001B[38;5;241m.\u001B[39mndim \u001B[38;5;241m==\u001B[39m \u001B[38;5;241m2\u001B[39m \u001B[38;5;129;01mor\u001B[39;00m A\u001B[38;5;241m.\u001B[39mndim \u001B[38;5;241m==\u001B[39m \u001B[38;5;241m3\u001B[39m \u001B[38;5;129;01mand\u001B[39;00m A\u001B[38;5;241m.\u001B[39mshape[\u001B[38;5;241m-\u001B[39m\u001B[38;5;241m1\u001B[39m] \u001B[38;5;129;01min\u001B[39;00m [\u001B[38;5;241m3\u001B[39m, \u001B[38;5;241m4\u001B[39m]):\n\u001B[1;32m--> 653\u001B[0m     \u001B[38;5;28;01mraise\u001B[39;00m \u001B[38;5;167;01mTypeError\u001B[39;00m(\u001B[38;5;124mf\u001B[39m\u001B[38;5;124m\"\u001B[39m\u001B[38;5;124mInvalid shape \u001B[39m\u001B[38;5;132;01m{\u001B[39;00mA\u001B[38;5;241m.\u001B[39mshape\u001B[38;5;132;01m}\u001B[39;00m\u001B[38;5;124m for image data\u001B[39m\u001B[38;5;124m\"\u001B[39m)\n\u001B[0;32m    654\u001B[0m \u001B[38;5;28;01mif\u001B[39;00m A\u001B[38;5;241m.\u001B[39mndim \u001B[38;5;241m==\u001B[39m \u001B[38;5;241m3\u001B[39m:\n\u001B[0;32m    655\u001B[0m     \u001B[38;5;66;03m# If the input data has values outside the valid range (after\u001B[39;00m\n\u001B[0;32m    656\u001B[0m     \u001B[38;5;66;03m# normalisation), we issue a warning and then clip X to the bounds\u001B[39;00m\n\u001B[0;32m    657\u001B[0m     \u001B[38;5;66;03m# - otherwise casting wraps extreme values, hiding outliers and\u001B[39;00m\n\u001B[0;32m    658\u001B[0m     \u001B[38;5;66;03m# making reliable interpretation impossible.\u001B[39;00m\n\u001B[0;32m    659\u001B[0m     high \u001B[38;5;241m=\u001B[39m \u001B[38;5;241m255\u001B[39m \u001B[38;5;28;01mif\u001B[39;00m np\u001B[38;5;241m.\u001B[39missubdtype(A\u001B[38;5;241m.\u001B[39mdtype, np\u001B[38;5;241m.\u001B[39minteger) \u001B[38;5;28;01melse\u001B[39;00m \u001B[38;5;241m1\u001B[39m\n",
      "\u001B[1;31mTypeError\u001B[0m: Invalid shape (23, 2048, 2048) for image data"
     ]
    },
    {
     "data": {
      "text/plain": [
       "<Figure size 500x250 with 2 Axes>"
      ],
      "image/png": "[encoded data removed]"
     },
     "metadata": {},
     "output_type": "display_data"
    }
   ],
   "execution_count": 2
  },
  {
   "metadata": {},
   "cell_type": "code",
   "outputs": [],
   "execution_count": null,
   "source": "data_cube = HyperspectralImage(image_path=r'E:\\new df\\03312025\\1675NT\\100\\fov1\\cycle1')",
   "id": "d00cb0a9bc89bb39"
  }
 ],
 "metadata": {
  "kernelspec": {
   "display_name": "Python 3",
   "language": "python",
   "name": "python3"
  },
  "language_info": {
   "codemirror_mode": {
    "name": "ipython",
    "version": 2
   },
   "file_extension": ".py",
   "mimetype": "text/x-python",
   "name": "python",
   "nbconvert_exporter": "python",
   "pygments_lexer": "ipython2",
   "version": "2.7.6"
  }
 },
 "nbformat": 4,
 "nbformat_minor": 5
}
