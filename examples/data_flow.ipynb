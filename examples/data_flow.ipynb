{
 "cells": [
  {
   "metadata": {},
   "cell_type": "markdown",
   "source": "",
   "id": "b8936fc589f1b845"
  },
  {
   "cell_type": "code",
   "execution_count": null,
   "id": "initial_id",
   "metadata": {
    "collapsed": true
   },
   "outputs": [],
   "source": [
    ""
   ]
  },
  {
   "metadata": {},
   "cell_type": "markdown",
   "source": [
    "# Breakdown of flow of data\n",
    "1) Load and normalize references\n",
    "   - Background\n",
    "   - Reflectance standard\n",
    "2) Load known scatterer and calculate model correction factor\n",
    "** For all samples **\n",
    "    1) Load sample and normalize\n",
    "        - To integration time\n",
    "        - To standard and background\n",
    "   2) Perform naive least squared fit to index Hb (NOTE: Consider down sampling here, then up sampling after clustering to get a smoother mask)\n",
    "   3) Perform K-Means clustering on THb index to create mask (NOTE: If upsampling here, then be sure to re-evaluate mask = mask > 0 since edges will be interpolated between True and False)\n",
    "   4) Apply LUT correction to image\n",
    "   5) Fit full model"
   ],
   "id": "d6d0149e76c940d"
  }
 ],
 "metadata": {
  "kernelspec": {
   "display_name": "Python 3",
   "language": "python",
   "name": "python3"
  },
  "language_info": {
   "codemirror_mode": {
    "name": "ipython",
    "version": 2
   },
   "file_extension": ".py",
   "mimetype": "text/x-python",
   "name": "python",
   "nbconvert_exporter": "python",
   "pygments_lexer": "ipython2",
   "version": "2.7.6"
  }
 },
 "nbformat": 4,
 "nbformat_minor": 5
}
